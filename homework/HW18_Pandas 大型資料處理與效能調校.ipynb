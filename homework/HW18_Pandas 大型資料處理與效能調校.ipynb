{
 "cells": [
  {
   "cell_type": "code",
   "execution_count": null,
   "metadata": {},
   "outputs": [],
   "source": [
    "#在速度較慢的時候，可以先從哪邊開始檢查？\n",
    "1.讀取資料型態選最快速的，以 pkl 檔最快，再者hdf>csv>xlsx\n",
    "2.多使用內建函數\n",
    "3.向量化的資料處理"
   ]
  },
  {
   "cell_type": "code",
   "execution_count": null,
   "metadata": {},
   "outputs": [],
   "source": [
    "#資料過大時應採取什麼方式讓記憶體占用量下降？\n",
    "可以將欄位的型態降級，不需要存太多元素在一個數字中。將整數型態 int 改成 uint ；浮點數型態 float64 改成 float32。"
   ]
  }
 ],
 "metadata": {
  "kernelspec": {
   "display_name": "Python 3",
   "language": "python",
   "name": "python3"
  },
  "language_info": {
   "codemirror_mode": {
    "name": "ipython",
    "version": 3
   },
   "file_extension": ".py",
   "mimetype": "text/x-python",
   "name": "python",
   "nbconvert_exporter": "python",
   "pygments_lexer": "ipython3",
   "version": "3.8.5"
  }
 },
 "nbformat": 4,
 "nbformat_minor": 4
}
