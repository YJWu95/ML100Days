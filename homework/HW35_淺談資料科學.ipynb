{
 "cells": [
  {
   "cell_type": "markdown",
   "metadata": {},
   "source": [
    "# 作業:\n",
    "今天課程中以一個案例，說明資料分析的流程與探索性分析，是否對於課程中一開始的問題，更有想法了?\n",
    "\n",
    " -挑選 Mr./Ms. Right\n",
    " -顧客下次會買哪些東西？\n",
    " -半導體的良率預測？\n",
    "\n",
    "Q1: 哪一個問題不適合用資料科學解決?\n",
    "Q2: 以你的角度來分析，為什麼這樣的問題，較不適合用資料來解決?\n",
    "\n",
    "將答案寫在論壇中，大家一起互相討論激盪。"
   ]
  },
  {
   "cell_type": "code",
   "execution_count": null,
   "metadata": {},
   "outputs": [],
   "source": [
    "# Ans1: 挑選 Mr./Ms. Right\n",
    "# Ans2: 挑選對象這件事很主觀，很難量化來做分析。"
   ]
  }
 ],
 "metadata": {
  "kernelspec": {
   "display_name": "Python 3",
   "language": "python",
   "name": "python3"
  },
  "language_info": {
   "codemirror_mode": {
    "name": "ipython",
    "version": 3
   },
   "file_extension": ".py",
   "mimetype": "text/x-python",
   "name": "python",
   "nbconvert_exporter": "python",
   "pygments_lexer": "ipython3",
   "version": "3.8.5"
  }
 },
 "nbformat": 4,
 "nbformat_minor": 4
}
